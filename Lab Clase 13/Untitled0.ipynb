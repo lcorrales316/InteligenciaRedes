{
  "nbformat": 4,
  "nbformat_minor": 0,
  "metadata": {
    "colab": {
      "provenance": []
    },
    "kernelspec": {
      "name": "python3",
      "display_name": "Python 3"
    },
    "language_info": {
      "name": "python"
    }
  },
  "cells": [
    {
      "cell_type": "code",
      "execution_count": 1,
      "metadata": {
        "colab": {
          "base_uri": "https://localhost:8080/"
        },
        "id": "mv5yWUrIhyO5",
        "outputId": "3de9e1d9-c47d-49ee-bde8-648f8f0c1bfb"
      },
      "outputs": [
        {
          "output_type": "stream",
          "name": "stdout",
          "text": [
            "File: Datasets/clickbait-headlines.tsv \n",
            "Size: 0.55 MBs\n"
          ]
        }
      ],
      "source": [
        "import os\n",
        "dataset_filename = \"Datasets/clickbait-headlines.tsv\"\n",
        "print(\"File: {} \\nSize: {} MBs\".format(dataset_filename, round(os.path.getsize(dataset_filename)/1024/1024, 2)))"
      ]
    },
    {
      "cell_type": "code",
      "source": [
        "import csv\n",
        "\n",
        "data = []\n",
        "labels = []\n",
        "\n",
        "with open(dataset_filename,encoding=\"utf8\") as f:\n",
        "    reader = csv.reader(f, delimiter=\"\\t\")\n",
        "    for line in reader:\n",
        "        try:\n",
        "            data.append(line[0])\n",
        "            labels.append(line[1])\n",
        "        except Exception as e:\n",
        "            print(e)\n",
        "\n",
        "print(data[:3])\n",
        "print(labels[:3])"
      ],
      "metadata": {
        "colab": {
          "base_uri": "https://localhost:8080/"
        },
        "id": "nagYIccEjSF_",
        "outputId": "1c12ba10-1d9f-42ff-8cf3-dfbcdcdead0b"
      },
      "execution_count": 2,
      "outputs": [
        {
          "output_type": "stream",
          "name": "stdout",
          "text": [
            "[\"Egypt's top envoy in Iraq confirmed killed\", 'Carter: Race relations in Palestine are worse than apartheid', 'After Years Of Dutiful Service, The Shiba Who Ran A Tobacco Shop Retires']\n",
            "['0', '0', '1']\n"
          ]
        }
      ]
    },
    {
      "cell_type": "code",
      "source": [
        "%%time\n",
        "from sklearn.feature_extraction.text import TfidfVectorizer\n",
        "\n",
        "vectorizer = TfidfVectorizer()\n",
        "vectors = vectorizer.fit_transform(data)\n",
        "print(\"The dimensions of our vectors:\")\n",
        "print(vectors.shape)\n",
        "print(\"- - -\")"
      ],
      "metadata": {
        "colab": {
          "base_uri": "https://localhost:8080/"
        },
        "id": "B8Ysvc_ojZlG",
        "outputId": "53c21352-1b73-4193-c054-dd679e9883a2"
      },
      "execution_count": 3,
      "outputs": [
        {
          "output_type": "stream",
          "name": "stdout",
          "text": [
            "The dimensions of our vectors:\n",
            "(10000, 13169)\n",
            "- - -\n",
            "CPU times: user 3.17 s, sys: 265 ms, total: 3.43 s\n",
            "Wall time: 6.35 s\n"
          ]
        }
      ]
    },
    {
      "cell_type": "code",
      "source": [
        "print(\"The data type of our vectors\")\n",
        "print(type(vectors))\n",
        "print(\"- - -\")\n",
        "print(\"The size of our vectors (MB):\")\n",
        "print(vectors.data.nbytes/1024/1024)\n",
        "print(\"- - -\")\n",
        "print(\"The size of our vectors in dense format (MB):\")\n",
        "print(vectors.todense().nbytes/1024/1024)\n",
        "print(\"- - - \")\n",
        "print(\"Number of non zero elements in our vectors\")\n",
        "print(vectors.nnz)\n",
        "print(\"- - -\")"
      ],
      "metadata": {
        "colab": {
          "base_uri": "https://localhost:8080/"
        },
        "id": "Z-md8svYjibm",
        "outputId": "fb1e98f8-1b35-48fe-9998-d88498684f01"
      },
      "execution_count": 4,
      "outputs": [
        {
          "output_type": "stream",
          "name": "stdout",
          "text": [
            "The data type of our vectors\n",
            "<class 'scipy.sparse._csr.csr_matrix'>\n",
            "- - -\n",
            "The size of our vectors (MB):\n",
            "0.6759414672851562\n",
            "- - -\n",
            "The size of our vectors in dense format (MB):\n",
            "1004.7149658203125\n",
            "- - - \n",
            "Number of non zero elements in our vectors\n",
            "88597\n",
            "- - -\n"
          ]
        }
      ]
    },
    {
      "cell_type": "code",
      "source": [
        "from sklearn.model_selection import train_test_split\n",
        "\n",
        "X_train, X_test, y_train, y_test = train_test_split(vectors,\n",
        "  labels, test_size=0.2)\n",
        "\n",
        "print(X_train.shape)\n",
        "print(X_test.shape)"
      ],
      "metadata": {
        "colab": {
          "base_uri": "https://localhost:8080/"
        },
        "id": "7ZWJ2fNwjnBQ",
        "outputId": "ecb43fa9-c938-49f3-9a88-dfda46d8408b"
      },
      "execution_count": 5,
      "outputs": [
        {
          "output_type": "stream",
          "name": "stdout",
          "text": [
            "(8000, 13169)\n",
            "(2000, 13169)\n"
          ]
        }
      ]
    },
    {
      "cell_type": "code",
      "source": [
        "%%time\n",
        "\n",
        "from sklearn.svm import LinearSVC\n",
        "\n",
        "svm_classifier = LinearSVC()\n",
        "svm_classifier.fit(X_train, y_train)\n",
        "\n",
        "predictions = svm_classifier.predict(X_test)"
      ],
      "metadata": {
        "colab": {
          "base_uri": "https://localhost:8080/"
        },
        "id": "Rr_Pvu64jqbt",
        "outputId": "7fcb57f3-b489-4fec-8bd0-c5007f2fb7a5"
      },
      "execution_count": 6,
      "outputs": [
        {
          "output_type": "stream",
          "name": "stdout",
          "text": [
            "CPU times: user 251 ms, sys: 28.4 ms, total: 279 ms\n",
            "Wall time: 404 ms\n"
          ]
        }
      ]
    },
    {
      "cell_type": "code",
      "source": [
        "print(\"prediction, label\")\n",
        "for i in range(10):\n",
        "    print(y_test[i], predictions[i])"
      ],
      "metadata": {
        "colab": {
          "base_uri": "https://localhost:8080/"
        },
        "id": "Kb-FQ4tkjtdz",
        "outputId": "28b16b7e-02a9-424e-8677-1f4cc9c0a673"
      },
      "execution_count": 7,
      "outputs": [
        {
          "output_type": "stream",
          "name": "stdout",
          "text": [
            "prediction, label\n",
            "1 1\n",
            "1 1\n",
            "0 0\n",
            "1 1\n",
            "1 1\n",
            "1 1\n",
            "1 1\n",
            "0 0\n",
            "0 0\n",
            "1 1\n"
          ]
        }
      ]
    },
    {
      "cell_type": "code",
      "source": [
        "from sklearn.metrics import accuracy_score, classification_report\n",
        "\n",
        "print(\"Accuracy: {}\\n\".format(accuracy_score(y_test, predictions)))\n",
        "print(classification_report(y_test, predictions))"
      ],
      "metadata": {
        "colab": {
          "base_uri": "https://localhost:8080/"
        },
        "id": "sa4heX_KjwK5",
        "outputId": "b9b017b8-145a-4c01-f563-8e5545c78b19"
      },
      "execution_count": 8,
      "outputs": [
        {
          "output_type": "stream",
          "name": "stdout",
          "text": [
            "Accuracy: 0.9605\n",
            "\n",
            "              precision    recall  f1-score   support\n",
            "\n",
            "           0       0.95      0.98      0.96      1011\n",
            "           1       0.97      0.95      0.96       989\n",
            "\n",
            "    accuracy                           0.96      2000\n",
            "   macro avg       0.96      0.96      0.96      2000\n",
            "weighted avg       0.96      0.96      0.96      2000\n",
            "\n"
          ]
        }
      ]
    }
  ]
}